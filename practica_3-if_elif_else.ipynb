{
 "cells": [
  {
   "cell_type": "code",
   "execution_count": null,
   "metadata": {},
   "outputs": [],
   "source": []
  },
  {
   "cell_type": "markdown",
   "metadata": {},
   "source": [
    "## Ejercicio 1\n",
    "Velocidad del Asteroide "
   ]
  },
  {
   "cell_type": "code",
   "execution_count": 1,
   "metadata": {},
   "outputs": [
    {
     "name": "stdout",
     "output_type": "stream",
     "text": [
      "Usted se encuentra en peligro\n"
     ]
    }
   ],
   "source": [
    "Velocidad_del_asteroide = 49\n",
    "if Velocidad_del_asteroide >= 25 :\n",
    "    print(\"Usted se encuentra en peligro\")\n",
    "else :\n",
    "    print(\"Usted se encuentra a salvo\")\n"
   ]
  },
  {
   "cell_type": "markdown",
   "metadata": {},
   "source": [
    "## Ejercicio 2\n",
    "Vista del asteroide "
   ]
  },
  {
   "cell_type": "code",
   "execution_count": 2,
   "metadata": {},
   "outputs": [
    {
     "name": "stdout",
     "output_type": "stream",
     "text": [
      "No hay nada que ver\n"
     ]
    }
   ],
   "source": [
    "velocidad_asteroide2 = 19\n",
    "if velocidad_asteroide2 > 20 : \n",
    "    print(\"Voltea al cielo! :)\")\n",
    "elif velocidad_asteroide2 == 20 :\n",
    "    print(\"Voltea al cielo! :)\")\n",
    "else :\n",
    "    print(\"No hay nada que ver\")\n"
   ]
  },
  {
   "cell_type": "markdown",
   "metadata": {},
   "source": [
    "## Ejercicio 3\n",
    "Combinaciones else elif "
   ]
  },
  {
   "cell_type": "code",
   "execution_count": 3,
   "metadata": {},
   "outputs": [
    {
     "name": "stdout",
     "output_type": "stream",
     "text": [
      "Voltea al cielo! :)\n"
     ]
    }
   ],
   "source": [
    "velocidad_asteroide3 = 25\n",
    "tamanio_asteroide = 40\n",
    "if velocidad_asteroide3 > 25 and tamanio_asteroide > 25 :\n",
    "    print(\"Usted se encuentra en peligro!!\")\n",
    "elif velocidad_asteroide3 >= 20 :\n",
    "    print (\"Voltea al cielo! :)\")\n",
    "elif tamanio_asteroide < 20 :\n",
    "    print(\"No hay nada que ver hoy\")\n",
    "else :\n",
    "    print(\"No hay nada que ver hoy\")\n"
   ]
  }
 ],
 "metadata": {
  "interpreter": {
   "hash": "70693308ff99d04cd521023428e7e17ffd73f44cab5de6f42e24d4461674cb48"
  },
  "kernelspec": {
   "display_name": "Python 3.10.4 64-bit",
   "language": "python",
   "name": "python3"
  },
  "language_info": {
   "codemirror_mode": {
    "name": "ipython",
    "version": 3
   },
   "file_extension": ".py",
   "mimetype": "text/x-python",
   "name": "python",
   "nbconvert_exporter": "python",
   "pygments_lexer": "ipython3",
   "version": "3.10.4"
  },
  "orig_nbformat": 4
 },
 "nbformat": 4,
 "nbformat_minor": 2
}
