{
 "cells": [
  {
   "cell_type": "markdown",
   "metadata": {},
   "source": [
    "## Variables básicas \n",
    "Tipos de datos int, float, sting, booleano"
   ]
  },
  {
   "cell_type": "code",
   "execution_count": null,
   "metadata": {},
   "outputs": [],
   "source": [
    "planetas_sistema_solar = 8 #ya no se cuenta Pluton\n",
    "distancia_a_alpha_centauri = 4.367 #tipo float en anios luz\n",
    "puede_despegar = True #True debe iniciar con mayuscula para registrarse como booleano\n",
    "transbordador_que_aterrizo_en_la_luna = \"Apolo 11\" #String \n",
    "\n",
    "#Para consultar el tipo de dato de una variable utilizamos la funcion type \n",
    "print(\"Tipo de dato para el numero de planetas: \", type (planetas_sistema_solar))"
   ]
  },
  {
   "cell_type": "markdown",
   "metadata": {},
   "source": [
    "## Operadores\n",
    "Aritméticos y de asignación "
   ]
  },
  {
   "cell_type": "code",
   "execution_count": null,
   "metadata": {},
   "outputs": [],
   "source": [
    "#Operadores aritméticos \n",
    "suma = 5 + 6 #El operador de la suma es el signo +\n",
    "resta = 8 - 4 #El operador es el signo -\n",
    "division = 9 / 3 #Usamos como operador /\n",
    "multiplicacion = 4 * 6 #Para la multiplicación se utiliza *\n",
    "\n",
    "#Operadores de asignación\n",
    "x = 2 #Es utilizado para asignar variables =\n",
    "x += 2 #Incremento en dos unidades\n",
    "x -= 2 #Decrementos en dos unidades \n",
    "x /= 2 #División sobre dos de un valor\n",
    "x *= 2 #Multiplicación por dos de un valor"
   ]
  },
  {
   "cell_type": "markdown",
   "metadata": {},
   "source": [
    "## Fecha\n",
    "Para aplicaciones como archivo de seguridad, condiciones e implementación de métricas"
   ]
  },
  {
   "cell_type": "code",
   "execution_count": null,
   "metadata": {},
   "outputs": [],
   "source": [
    "from datetime import date #Importamos la biblioteca \n",
    "date.today() #obtenemos la fecha de hoy \n",
    "print(date.today()) #Imprimimos la fecha en la consola \n",
    "\n",
    "\n",
    "from datetime import date \n",
    "print (\"La fecha de hoy es: \" + str(date.today()))"
   ]
  },
  {
   "cell_type": "markdown",
   "metadata": {},
   "source": [
    "## Conversión de datos \n",
    "Formato fecha a string "
   ]
  },
  {
   "cell_type": "code",
   "execution_count": null,
   "metadata": {},
   "outputs": [],
   "source": [
    "print(\"Today's date is: \" + str(date.today()))\n",
    "\n",
    "\n",
    "parsec = 11\n",
    "lightyears = 3.26156 * parsec\n",
    "print(str(parsec) + \" parsec, is \" + str(lightyears) + \" lightyears\")"
   ]
  },
  {
   "cell_type": "markdown",
   "metadata": {},
   "source": [
    "## Entrada de datos \n",
    "Entrada del usuario por medio de la consola"
   ]
  },
  {
   "cell_type": "code",
   "execution_count": null,
   "metadata": {},
   "outputs": [],
   "source": [
    "print( \"Bienvenido al programa de bienvenida\" )\n",
    "nombre = input( \"Introduzca su nombre \" )\n",
    "print( \"Saludos: \" + nombre )\n",
    "\n",
    "#Al trabajar con la función input se debe considerar que el tipo de dato automático es string\n",
    "print (\"Calculadora\")\n",
    "primer_numero = input (\"Primer número: \")\n",
    "segundo_numero = input (\"Segundo número: \")\n",
    "print (int(primer_numero) + int(segundo_numero))"
   ]
  }
 ],
 "metadata": {
  "language_info": {
   "name": "python"
  },
  "orig_nbformat": 4
 },
 "nbformat": 4,
 "nbformat_minor": 2
}
