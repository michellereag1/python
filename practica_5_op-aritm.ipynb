{
 "cells": [
  {
   "cell_type": "code",
   "execution_count": null,
   "metadata": {},
   "outputs": [],
   "source": []
  },
  {
   "cell_type": "markdown",
   "metadata": {},
   "source": [
    "## Biblioteca Math\n",
    "Redondeo de numeros hacia arriba o abajo"
   ]
  },
  {
   "cell_type": "code",
   "execution_count": null,
   "metadata": {},
   "outputs": [],
   "source": [
    "from math import ceil, floor\n",
    "\n",
    "round_up = ceil(12.5)\n",
    "print(round_up)\n",
    "\n",
    "round_down = floor(12.5)\n",
    "print(round_down)"
   ]
  },
  {
   "cell_type": "markdown",
   "metadata": {},
   "source": [
    "## Utilizar operadores aritméticos \n",
    "Calculo de distancia entre planetas a partir de su distancia al sol"
   ]
  },
  {
   "cell_type": "code",
   "execution_count": null,
   "metadata": {},
   "outputs": [],
   "source": [
    "#Distancia del sol al planeta en km\n",
    "Distancia_Tierra = 149597870\n",
    "Distancia_Jupiter = 778547200\n",
    "\n",
    "Distancia_entre_Planetas = abs(Distancia_Tierra-Distancia_Jupiter)\n",
    "print (Distancia_entre_Planetas * 0.621, \"Millas de distancia\")"
   ]
  },
  {
   "cell_type": "markdown",
   "metadata": {},
   "source": [
    "## Conversión de cadenas a números y valores absolutos \n",
    "Distancia entre dos planetas"
   ]
  },
  {
   "cell_type": "code",
   "execution_count": null,
   "metadata": {},
   "outputs": [],
   "source": [
    "\n",
    "\n",
    "#Almacenamiento de las entradas de usuario\n",
    "primer_planeta = input (\"Escriba la distancia desde el sol para el primer planeta en km : \")\n",
    "segundo_planeta = input(\"Escriba la distancia desde el sol para el segundo planeta en km : \")\n",
    "\n",
    "#Conversión a números enteros\n",
    "primer_planeta = int(primer_planeta)\n",
    "segundo_planeta = int(segundo_planeta)\n",
    "\n",
    "#Realizar el cálculo y determinar el valor absoluto\n",
    "distancia_km = segundo_planeta - primer_planeta\n",
    "print(distancia_km)\n",
    "\n",
    "#Convertir km a millas \n",
    "distancia_millas = distancia_km * 0.621\n",
    "print(abs(distancia_millas))\n"
   ]
  }
 ],
 "metadata": {
  "interpreter": {
   "hash": "70693308ff99d04cd521023428e7e17ffd73f44cab5de6f42e24d4461674cb48"
  },
  "kernelspec": {
   "display_name": "Python 3.10.4 64-bit",
   "language": "python",
   "name": "python3"
  },
  "language_info": {
   "codemirror_mode": {
    "name": "ipython",
    "version": 3
   },
   "file_extension": ".py",
   "mimetype": "text/x-python",
   "name": "python",
   "nbconvert_exporter": "python",
   "pygments_lexer": "ipython3",
   "version": "3.10.4"
  },
  "orig_nbformat": 4
 },
 "nbformat": 4,
 "nbformat_minor": 2
}
