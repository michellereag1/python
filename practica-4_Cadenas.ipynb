{
 "cells": [
  {
   "cell_type": "code",
   "execution_count": null,
   "metadata": {},
   "outputs": [],
   "source": []
  },
  {
   "cell_type": "markdown",
   "metadata": {},
   "source": [
    "## Transformar cadenas \n",
    "Manipulación de cadenas con datos de la luna "
   ]
  },
  {
   "cell_type": "code",
   "execution_count": 17,
   "metadata": {},
   "outputs": [
    {
     "name": "stdout",
     "output_type": "stream",
     "text": [
      "Facts : \n",
      " \n",
      "On average, the Moon moves 4cm away from the Earth every year\n",
      " The highest daylight temperature of the Moon is 127 C\n",
      "---\n",
      "C to Celcius : \n",
      " The highest daylight temperature of the Moon is 127 Celcius\n",
      "---\n",
      "Both results : \n",
      " \n",
      "On average, the Moon moves 4cm away from the Earth every year\n",
      " The highest daylight temperature of the Moon is 127 Celcius\n"
     ]
    }
   ],
   "source": [
    "text = \"\"\"Interesting facts about the Moon. The Moon is Earth's only satellite. There are several interesting facts about the Moon and how it affects life here on Earth. \n",
    "On average, the Moon moves 4cm away from the Earth every year. This yearly drift is not significant enough to cause immediate effects on Earth. The highest daylight temperature of the Moon is 127 C\"\"\"\n",
    "\n",
    "#Dividir el texto\n",
    "text_parts = text.split(\".\")\n",
    "text_parts\n",
    "\n",
    "#Palabras clave para encontrar hechos\n",
    "key_words = [\"average\", \"temperature\", \"distance\"]\n",
    "\n",
    "print (\"Facts : \")\n",
    "\n",
    "#Ciclo for para recorrer la cadena \n",
    "for text in text_parts : \n",
    "    for key_word in key_words :\n",
    "        if key_word in text :\n",
    "            print (text) \n",
    "            break\n",
    "\n",
    "print(\"---\")\n",
    "print (\"C to Celcius : \")\n",
    "\n",
    "#Ciclo for para cambiar C a Celcius \n",
    "for text in text_parts :\n",
    "    for key_word in key_words :\n",
    "        if \"C\" in text :\n",
    "            print (text.replace(\"C\", \"Celcius\"))\n",
    "            break\n",
    "\n",
    "print (\"---\")\n",
    "print (\"Both results : \")\n",
    "\n",
    "for text in text_parts :\n",
    "    for key_word in key_words :\n",
    "        if key_word in text :\n",
    "            print(text.replace(\"C\", \"Celcius\"))\n",
    "            break\n",
    "\n"
   ]
  },
  {
   "cell_type": "markdown",
   "metadata": {},
   "source": [
    "## Formateando cadenas \n",
    "Datos clave sobre la gravedad de varias lunas"
   ]
  },
  {
   "cell_type": "code",
   "execution_count": 20,
   "metadata": {},
   "outputs": [
    {
     "name": "stdout",
     "output_type": "stream",
     "text": [
      "\n",
      "Datos de gravedad sobre : Ganímedes\n",
      "--------------------------------------------------------\n",
      "Nombre del planeta : Marte\n",
      "Gravedad en Marte : 1.4300000000000002 m/s^2\n",
      "\n"
     ]
    }
   ],
   "source": [
    "#Datos con los que vamos a trabajar \n",
    "planeta = \"Marte\"\n",
    "gravedad = 0.00143\n",
    "nombre = \"Ganímedes\"\n",
    "\n",
    "#Creación del título \n",
    "title = f'datos sobre la gravedad de {nombre}'\n",
    "\n",
    "#Creación de la plantilla\n",
    "hechos = f\"\"\"{'-'*80} \n",
    "Nombre del planeta: {planeta} \n",
    "Gravedad en {nombre}: {gravedad * 1000} m/s2 \n",
    "\"\"\"\n",
    "\n",
    "new_template = \"\"\"\n",
    "Datos de gravedad sobre : {nombre}\n",
    "--------------------------------------------------------\n",
    "Nombre del planeta : {planeta}\n",
    "Gravedad en {planeta} : {gravedad} m/s^2\n",
    "\"\"\"\n",
    "print(new_template.format(nombre=nombre, planeta=planeta, gravedad=gravedad*1000))\n",
    "\n"
   ]
  }
 ],
 "metadata": {
  "interpreter": {
   "hash": "70693308ff99d04cd521023428e7e17ffd73f44cab5de6f42e24d4461674cb48"
  },
  "kernelspec": {
   "display_name": "Python 3.10.4 64-bit",
   "language": "python",
   "name": "python3"
  },
  "language_info": {
   "codemirror_mode": {
    "name": "ipython",
    "version": 3
   },
   "file_extension": ".py",
   "mimetype": "text/x-python",
   "name": "python",
   "nbconvert_exporter": "python",
   "pygments_lexer": "ipython3",
   "version": "3.10.4"
  },
  "orig_nbformat": 4
 },
 "nbformat": 4,
 "nbformat_minor": 2
}
