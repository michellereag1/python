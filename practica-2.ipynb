{
 "cells": [
  {
   "cell_type": "code",
   "execution_count": null,
   "metadata": {},
   "outputs": [],
   "source": []
  },
  {
   "cell_type": "markdown",
   "metadata": {},
   "source": [
    "## Crear un entorno virtual\n",
    "Desarrollo desde la terminal"
   ]
  },
  {
   "cell_type": "code",
   "execution_count": null,
   "metadata": {},
   "outputs": [],
   "source": [
    "#Folder donde se guardará el proyecto\n",
    "cd Documents/FolderElegido\n",
    "\n",
    "#Para llamar al módulo \n",
    "#python3 es la versión de python a utilizar \n",
    "#venv, es la llamada al módulo, que hace referencia a vitual environment \n",
    "#env es el nombre del entonrno virtual\n",
    "python3 -m venv env \n",
    "#Después de la acción anterior se generarán nuevas bibliotecas. Se aconseja colocar los archivos en el directorio src\n",
    "  /env\n",
    "  /src\n",
    "    program.py  \n",
    "\n",
    "\n"
   ]
  },
  {
   "cell_type": "markdown",
   "metadata": {},
   "source": [
    "## Activar el entorno virtual\n",
    "Llamada a activate"
   ]
  },
  {
   "cell_type": "code",
   "execution_count": null,
   "metadata": {},
   "outputs": [],
   "source": [
    "#Para window\n",
    "env\\bin\\activate \n",
    "#Resultado, se nos indica que estamos en el entorno virtual\n",
    " (env) -> path/to/project "
   ]
  },
  {
   "cell_type": "markdown",
   "metadata": {},
   "source": [
    "## Instalar paquete\n",
    "Instalación desde la terminal"
   ]
  },
  {
   "cell_type": "code",
   "execution_count": null,
   "metadata": {},
   "outputs": [],
   "source": [
    "  # Bash | Consola\n",
    "  pip install python-dateutil\n",
    "# Mensaje de salida en consola\n",
    "  /env\n",
    "    /lib\n",
    "      /dateutil\n",
    "\n",
    "#Para ver paquetes instalados en el entorno virtual\n",
    "pip freeze\n",
    "\n",
    "# Mensaje de salida en consola\n",
    "  python-dateutil==2.8.2\n",
    "  six==1.16.0\n",
    "\n",
    "#Para salir del entorno virtual\n",
    "deactivate \n",
    "#Mensaje en la terminal: \n",
    "path/to/project\n",
    "\n",
    "\n",
    "\n"
   ]
  },
  {
   "cell_type": "markdown",
   "metadata": {},
   "source": [
    "## Usar un paquete instalado \n"
   ]
  },
  {
   "cell_type": "code",
   "execution_count": null,
   "metadata": {},
   "outputs": [],
   "source": [
    "  from datetime import *\n",
    "  from dateutil.relativedelta import *\n",
    "  now = datetime.now()\n",
    "  print(now)\n",
    "\n",
    "  now = now + relativedelta(months=1, weeks=1, hour=10)\n",
    "\n",
    "  print(now)"
   ]
  },
  {
   "cell_type": "markdown",
   "metadata": {},
   "source": [
    "## Código completo\n",
    "Entorno virtual"
   ]
  },
  {
   "cell_type": "code",
   "execution_count": null,
   "metadata": {},
   "outputs": [],
   "source": [
    "python3 -m venv env\n",
    "env\\bin\\activate\n",
    "pip freeze\n",
    "pip install python-dateutil\n",
    "Successfully installed python-dateutil-2.8.2 six-1.16.0\n",
    "pip freeze\n",
    "python-dateutil==2.8.2\n",
    "six==1.16.0\n",
    "deactivate \n"
   ]
  }
 ],
 "metadata": {
  "language_info": {
   "name": "python"
  },
  "orig_nbformat": 4
 },
 "nbformat": 4,
 "nbformat_minor": 2
}
